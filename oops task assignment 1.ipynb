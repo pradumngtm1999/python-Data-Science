{
 "cells": [
  {
   "attachments": {},
   "cell_type": "markdown",
   "id": "6fbebed7-6ada-4d87-b265-d536fbfbbab0",
   "metadata": {},
   "source": [
    "Q1, Create a vehicle class with an init method having instance variables as name_of_vehicle, max_speed\n",
    "and average_of_vehicle."
   ]
  },
  {
   "cell_type": "code",
   "execution_count": 9,
   "id": "b2dee1a7-583c-4158-be51-36b458e8f61d",
   "metadata": {},
   "outputs": [
    {
     "name": "stdout",
     "output_type": "stream",
     "text": [
      "Tesla Model S\n",
      "200\n",
      "30\n"
     ]
    }
   ],
   "source": [
    "class Vehicle:\n",
    "    def __init__(self, name_of_vehicle, max_speed, average_of_vehicle):\n",
    "        self.name_of_vehicle = name_of_vehicle\n",
    "        self.max_speed = max_speed\n",
    "        self.average_of_vehicle = average_of_vehicle\n",
    "        car = Vehicle(\"Tesla Model S\", 200, 30)\n",
    "print(car.name_of_vehicle)          \n",
    "print(car.max_speed)                \n",
    "print(car.average_of_vehicle)       "
   ]
  },
  {
   "attachments": {},
   "cell_type": "markdown",
   "id": "3b304867-31f4-468d-ae28-b044347c93cd",
   "metadata": {},
   "source": [
    "Q2. Create a child class car from the vehicle class created in Que 1, which will inherit the vehicle class.\n",
    "Create a method named seating_capacity which takes capacity as an argument and returns the name of\n",
    "the vehicle and its seating capacity."
   ]
  },
  {
   "cell_type": "code",
   "execution_count": 4,
   "id": "d3a7ba16-1a9d-4318-99ae-4bdf63b6533b",
   "metadata": {},
   "outputs": [
    {
     "name": "stdout",
     "output_type": "stream",
     "text": [
      "Name: Tesla Model S\n",
      "Color: Red\n",
      "Tesla Model S - Seating Capacity: 5\n"
     ]
    }
   ],
   "source": [
    "class Vehicle:\n",
    "    def __init__(self, name, color):\n",
    "        self.name = name\n",
    "        self.color = color\n",
    "    \n",
    "    def display_info(self):\n",
    "        print(\"Name:\", self.name)\n",
    "        print(\"Color:\", self.color)\n",
    "\n",
    "\n",
    "class Car(Vehicle):\n",
    "    def seating_capacity(self, capacity):\n",
    "        return f\"{self.name} - Seating Capacity: {capacity}\"\n",
    "\n",
    "\n",
    "# Create an instance of the Car class\n",
    "my_car = Car(\"Tesla Model S\", \"Red\")\n",
    "\n",
    "# Access the inherited attributes and methods\n",
    "my_car.display_info()\n",
    "\n",
    "# Call the seating_capacity method\n",
    "print(my_car.seating_capacity(5))"
   ]
  },
  {
   "attachments": {},
   "cell_type": "markdown",
   "id": "4a2963bb-6b87-4fa8-9e8b-40aa509dd7f1",
   "metadata": {},
   "source": [
    "Q3. What is multiple inheritance? Write a python code to demonstrate multiple inheritance."
   ]
  },
  {
   "cell_type": "code",
   "execution_count": 7,
   "id": "97f8a90a-2bb4-4d2d-be90-8250107f4c21",
   "metadata": {},
   "outputs": [
    {
     "name": "stdout",
     "output_type": "stream",
     "text": [
      "Parrot says 'Tweet!'\n",
      "Parrot is flying.\n"
     ]
    }
   ],
   "source": [
    "class Animal:\n",
    "    def __init__(self, name):\n",
    "        self.name = name\n",
    "    \n",
    "    def speak(self):\n",
    "        pass\n",
    "\n",
    "\n",
    "class Flyable:\n",
    "    def fly(self):\n",
    "        pass\n",
    "\n",
    "\n",
    "class Bird(Animal, Flyable):\n",
    "    def speak(self):\n",
    "        print(f\"{self.name} says 'Tweet!'\")\n",
    "\n",
    "    def fly(self):\n",
    "        print(f\"{self.name} is flying.\")\n",
    "\n",
    "\n",
    "# Create an instance of the Bird class\n",
    "parrot = Bird(\"Parrot\")\n",
    "\n",
    "# Call the speak method inherited from the Animal class\n",
    "parrot.speak()\n",
    "\n",
    "# Call the fly method inherited from the Flyable class\n",
    "parrot.fly()"
   ]
  },
  {
   "attachments": {},
   "cell_type": "markdown",
   "id": "00a1ba6e-dc88-4f4a-b1ff-ef2f3a97ecae",
   "metadata": {},
   "source": [
    "Q4. What are getter and setter in python? Create a class and create a getter and a setter method in this\n",
    "class."
   ]
  },
  {
   "cell_type": "code",
   "execution_count": 8,
   "id": "cfa5868d-62e2-4764-81bb-1a6cb1d1d14e",
   "metadata": {},
   "outputs": [
    {
     "name": "stdout",
     "output_type": "stream",
     "text": [
      "John Doe\n",
      "Jane Smith\n"
     ]
    }
   ],
   "source": [
    "class Person:\n",
    "    def __init__(self, name):\n",
    "        self._name = name\n",
    "\n",
    "    def get_name(self):\n",
    "        return self._name\n",
    "\n",
    "    def set_name(self, new_name):\n",
    "        self._name = new_name\n",
    "\n",
    "\n",
    "# Create an instance of the Person class\n",
    "person = Person(\"John Doe\")\n",
    "\n",
    "# Use the getter method to retrieve the name attribute\n",
    "print(person.get_name())  # Output: John Doe\n",
    "\n",
    "# Use the setter method to change the name attribute\n",
    "person.set_name(\"Jane Smith\")\n",
    "\n",
    "# Use the getter method again to retrieve the updated name attribute\n",
    "print(person.get_name())  # Output: Jane Smith"
   ]
  },
  {
   "attachments": {},
   "cell_type": "markdown",
   "id": "c5d5ed88-2618-432d-8440-27444441ce1c",
   "metadata": {},
   "source": [
    "Q5.What is method overriding in python? Write a python code to demonstrate method overriding.\n"
   ]
  },
  {
   "cell_type": "code",
   "execution_count": 9,
   "id": "2024ebe2-5d32-439c-9e0a-9edb048a33f9",
   "metadata": {},
   "outputs": [
    {
     "name": "stdout",
     "output_type": "stream",
     "text": [
      "Area of rectangle: 20\n",
      "Area of circle: 28.26\n"
     ]
    }
   ],
   "source": [
    "class Shape:\n",
    "    def area(self):\n",
    "        pass\n",
    "\n",
    "\n",
    "class Rectangle(Shape):\n",
    "    def __init__(self, length, width):\n",
    "        self.length = length\n",
    "        self.width = width\n",
    "    \n",
    "    def area(self):\n",
    "        return self.length * self.width\n",
    "\n",
    "\n",
    "class Circle(Shape):\n",
    "    def __init__(self, radius):\n",
    "        self.radius = radius\n",
    "    \n",
    "    def area(self):\n",
    "        return 3.14 * self.radius**2\n",
    "\n",
    "\n",
    "# Create instances of the Rectangle and Circle classes\n",
    "rectangle = Rectangle(4, 5)\n",
    "circle = Circle(3)\n",
    "\n",
    "# Call the area method on the instances\n",
    "print(\"Area of rectangle:\", rectangle.area())  # Output: 20\n",
    "print(\"Area of circle:\", circle.area())  # Output: 28.26"
   ]
  },
  {
   "cell_type": "code",
   "execution_count": null,
   "id": "e8154d3f-6528-41dd-b133-f51137105b22",
   "metadata": {},
   "outputs": [],
   "source": []
  }
 ],
 "metadata": {
  "kernelspec": {
   "display_name": "Python 3 (ipykernel)",
   "language": "python",
   "name": "python3"
  },
  "language_info": {
   "codemirror_mode": {
    "name": "ipython",
    "version": 3
   },
   "file_extension": ".py",
   "mimetype": "text/x-python",
   "name": "python",
   "nbconvert_exporter": "python",
   "pygments_lexer": "ipython3",
   "version": "3.10.8"
  }
 },
 "nbformat": 4,
 "nbformat_minor": 5
}
